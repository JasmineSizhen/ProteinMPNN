{
 "cells": [
  {
   "cell_type": "code",
   "execution_count": 16,
   "id": "f336c79b-10b8-4b3c-9a79-b0dc855ceae9",
   "metadata": {},
   "outputs": [],
   "source": [
    "#%pip install biopython\n",
    "#%pip install pandas\n",
    "from Bio import SeqIO\n",
    "import pandas as pd"
   ]
  },
  {
   "cell_type": "code",
   "execution_count": 17,
   "id": "035647cf-b285-4c95-a605-4e90174ceb0b",
   "metadata": {},
   "outputs": [
    {
     "data": {
      "text/plain": [
       "128"
      ]
     },
     "execution_count": 17,
     "metadata": {},
     "output_type": "execute_result"
    }
   ],
   "source": [
    "ref_seq = \"EVQLVESGG-GLVQPGGSLRLSCAASGFNI----KDTYIHWVRQAPGKGLEWVARIYPT--NGYTRYADSVK-GRFTISADTSKNTAYLQMNSLRAEDTAVYYCSRWGGDGFYAMDYWGQGTLVTVSS\"\n",
    "len(ref_seq)"
   ]
  },
  {
   "cell_type": "code",
   "execution_count": 18,
   "id": "73425a81-8a87-462a-8eb4-20f0fabaeee3",
   "metadata": {},
   "outputs": [
    {
     "data": {
      "text/plain": [
       "True"
      ]
     },
     "execution_count": 18,
     "metadata": {},
     "output_type": "execute_result"
    }
   ],
   "source": [
    "ref_seq[107-1: 116] == \"WGGDGFYAMD\""
   ]
  },
  {
   "cell_type": "code",
   "execution_count": 19,
   "id": "f7939427-4fc6-4071-a6fe-b9c533b08b39",
   "metadata": {},
   "outputs": [],
   "source": [
    "def get_edit_distance(original_seq, mutated_seq):\n",
    "    '''\n",
    "    Get number of mutations seq is from original\n",
    "    Requires seqs to be of same length\n",
    "\n",
    "    :param original_seq: str of AAs e.g. Trastuzumab's H3\n",
    "    :param mutated_seq: str of AAs of mutated seq\n",
    "    :returns: int of number of mutations\n",
    "    '''\n",
    "    edit_distance = 0\n",
    "    for idx, original_AA in enumerate(original_seq):\n",
    "        if mutated_seq[idx] != original_AA:\n",
    "            edit_distance += 1  \n",
    "    return edit_distance"
   ]
  },
  {
   "cell_type": "code",
   "execution_count": 23,
   "id": "6894d6a6-0bf8-4dd4-9e8c-16c084e173d9",
   "metadata": {},
   "outputs": [
    {
     "name": "stdout",
     "output_type": "stream",
     "text": [
      "46552 46552\n"
     ]
    }
   ],
   "source": [
    "ref_segment = \"WGGDGFYAMD\"\n",
    "samples_set = set()\n",
    "rows = []\n",
    "with open(\"outputs/1n8z_1000k_proteinmpnn/seqs/1n8z_abb2.fa\") as handle:\n",
    "    for record in SeqIO.parse(handle, \"fasta\"):\n",
    "        if \"sample\" in record.description:\n",
    "            info = dict(item.split('=') for item in record.description.split(', '))\n",
    "            \n",
    "            seq = str(record.seq)\n",
    "            if seq not in samples_set:\n",
    "                samples_set.add(seq)\n",
    "                \n",
    "                assert len(seq) == 128\n",
    "                mutates = get_edit_distance(ref_segment, seq[107-1: 116])\n",
    "                rows.append([seq, mutates, info['sample'], info['score'], info['global_score'], info['seq_recovery']])\n",
    "\n",
    "print(len(samples_set), len(rows))"
   ]
  },
  {
   "cell_type": "code",
   "execution_count": 25,
   "id": "184f2212-4e88-4246-9ff5-5f3c92b46bac",
   "metadata": {},
   "outputs": [
    {
     "data": {
      "text/html": [
       "<div>\n",
       "<style scoped>\n",
       "    .dataframe tbody tr th:only-of-type {\n",
       "        vertical-align: middle;\n",
       "    }\n",
       "\n",
       "    .dataframe tbody tr th {\n",
       "        vertical-align: top;\n",
       "    }\n",
       "\n",
       "    .dataframe thead th {\n",
       "        text-align: right;\n",
       "    }\n",
       "</style>\n",
       "<table border=\"1\" class=\"dataframe\">\n",
       "  <thead>\n",
       "    <tr style=\"text-align: right;\">\n",
       "      <th></th>\n",
       "      <th>seq</th>\n",
       "      <th>mutates</th>\n",
       "      <th>sample</th>\n",
       "      <th>score</th>\n",
       "      <th>global_score</th>\n",
       "      <th>seq_recovery</th>\n",
       "    </tr>\n",
       "  </thead>\n",
       "  <tbody>\n",
       "    <tr>\n",
       "      <th>0</th>\n",
       "      <td>EVQLVESGGXGLVQPGGSLRLSCAASGFNIXXXXKDTYIHWVRQAP...</td>\n",
       "      <td>8</td>\n",
       "      <td>1</td>\n",
       "      <td>1.1743</td>\n",
       "      <td>1.1789</td>\n",
       "      <td>0.2000</td>\n",
       "    </tr>\n",
       "    <tr>\n",
       "      <th>1</th>\n",
       "      <td>EVQLVESGGXGLVQPGGSLRLSCAASGFNIXXXXKDTYIHWVRQAP...</td>\n",
       "      <td>8</td>\n",
       "      <td>2</td>\n",
       "      <td>1.2568</td>\n",
       "      <td>1.1619</td>\n",
       "      <td>0.2000</td>\n",
       "    </tr>\n",
       "    <tr>\n",
       "      <th>2</th>\n",
       "      <td>EVQLVESGGXGLVQPGGSLRLSCAASGFNIXXXXKDTYIHWVRQAP...</td>\n",
       "      <td>8</td>\n",
       "      <td>3</td>\n",
       "      <td>1.1610</td>\n",
       "      <td>1.1858</td>\n",
       "      <td>0.2000</td>\n",
       "    </tr>\n",
       "    <tr>\n",
       "      <th>3</th>\n",
       "      <td>EVQLVESGGXGLVQPGGSLRLSCAASGFNIXXXXKDTYIHWVRQAP...</td>\n",
       "      <td>8</td>\n",
       "      <td>4</td>\n",
       "      <td>1.2284</td>\n",
       "      <td>1.1977</td>\n",
       "      <td>0.2000</td>\n",
       "    </tr>\n",
       "    <tr>\n",
       "      <th>4</th>\n",
       "      <td>EVQLVESGGXGLVQPGGSLRLSCAASGFNIXXXXKDTYIHWVRQAP...</td>\n",
       "      <td>7</td>\n",
       "      <td>5</td>\n",
       "      <td>1.1738</td>\n",
       "      <td>1.1842</td>\n",
       "      <td>0.3000</td>\n",
       "    </tr>\n",
       "    <tr>\n",
       "      <th>...</th>\n",
       "      <td>...</td>\n",
       "      <td>...</td>\n",
       "      <td>...</td>\n",
       "      <td>...</td>\n",
       "      <td>...</td>\n",
       "      <td>...</td>\n",
       "    </tr>\n",
       "    <tr>\n",
       "      <th>46547</th>\n",
       "      <td>EVQLVESGGXGLVQPGGSLRLSCAASGFNIXXXXKDTYIHWVRQAP...</td>\n",
       "      <td>8</td>\n",
       "      <td>999816</td>\n",
       "      <td>1.3803</td>\n",
       "      <td>1.1782</td>\n",
       "      <td>0.2000</td>\n",
       "    </tr>\n",
       "    <tr>\n",
       "      <th>46548</th>\n",
       "      <td>EVQLVESGGXGLVQPGGSLRLSCAASGFNIXXXXKDTYIHWVRQAP...</td>\n",
       "      <td>7</td>\n",
       "      <td>999825</td>\n",
       "      <td>1.4511</td>\n",
       "      <td>1.1959</td>\n",
       "      <td>0.3000</td>\n",
       "    </tr>\n",
       "    <tr>\n",
       "      <th>46549</th>\n",
       "      <td>EVQLVESGGXGLVQPGGSLRLSCAASGFNIXXXXKDTYIHWVRQAP...</td>\n",
       "      <td>8</td>\n",
       "      <td>999842</td>\n",
       "      <td>1.4620</td>\n",
       "      <td>1.2034</td>\n",
       "      <td>0.2000</td>\n",
       "    </tr>\n",
       "    <tr>\n",
       "      <th>46550</th>\n",
       "      <td>EVQLVESGGXGLVQPGGSLRLSCAASGFNIXXXXKDTYIHWVRQAP...</td>\n",
       "      <td>9</td>\n",
       "      <td>999881</td>\n",
       "      <td>1.4729</td>\n",
       "      <td>1.1866</td>\n",
       "      <td>0.1000</td>\n",
       "    </tr>\n",
       "    <tr>\n",
       "      <th>46551</th>\n",
       "      <td>EVQLVESGGXGLVQPGGSLRLSCAASGFNIXXXXKDTYIHWVRQAP...</td>\n",
       "      <td>10</td>\n",
       "      <td>999945</td>\n",
       "      <td>1.5823</td>\n",
       "      <td>1.2009</td>\n",
       "      <td>0.0000</td>\n",
       "    </tr>\n",
       "  </tbody>\n",
       "</table>\n",
       "<p>46552 rows × 6 columns</p>\n",
       "</div>"
      ],
      "text/plain": [
       "                                                     seq  mutates  sample  \\\n",
       "0      EVQLVESGGXGLVQPGGSLRLSCAASGFNIXXXXKDTYIHWVRQAP...        8       1   \n",
       "1      EVQLVESGGXGLVQPGGSLRLSCAASGFNIXXXXKDTYIHWVRQAP...        8       2   \n",
       "2      EVQLVESGGXGLVQPGGSLRLSCAASGFNIXXXXKDTYIHWVRQAP...        8       3   \n",
       "3      EVQLVESGGXGLVQPGGSLRLSCAASGFNIXXXXKDTYIHWVRQAP...        8       4   \n",
       "4      EVQLVESGGXGLVQPGGSLRLSCAASGFNIXXXXKDTYIHWVRQAP...        7       5   \n",
       "...                                                  ...      ...     ...   \n",
       "46547  EVQLVESGGXGLVQPGGSLRLSCAASGFNIXXXXKDTYIHWVRQAP...        8  999816   \n",
       "46548  EVQLVESGGXGLVQPGGSLRLSCAASGFNIXXXXKDTYIHWVRQAP...        7  999825   \n",
       "46549  EVQLVESGGXGLVQPGGSLRLSCAASGFNIXXXXKDTYIHWVRQAP...        8  999842   \n",
       "46550  EVQLVESGGXGLVQPGGSLRLSCAASGFNIXXXXKDTYIHWVRQAP...        9  999881   \n",
       "46551  EVQLVESGGXGLVQPGGSLRLSCAASGFNIXXXXKDTYIHWVRQAP...       10  999945   \n",
       "\n",
       "        score global_score seq_recovery  \n",
       "0      1.1743       1.1789       0.2000  \n",
       "1      1.2568       1.1619       0.2000  \n",
       "2      1.1610       1.1858       0.2000  \n",
       "3      1.2284       1.1977       0.2000  \n",
       "4      1.1738       1.1842       0.3000  \n",
       "...       ...          ...          ...  \n",
       "46547  1.3803       1.1782       0.2000  \n",
       "46548  1.4511       1.1959       0.3000  \n",
       "46549  1.4620       1.2034       0.2000  \n",
       "46550  1.4729       1.1866       0.1000  \n",
       "46551  1.5823       1.2009       0.0000  \n",
       "\n",
       "[46552 rows x 6 columns]"
      ]
     },
     "execution_count": 25,
     "metadata": {},
     "output_type": "execute_result"
    }
   ],
   "source": [
    "df = pd.DataFrame(columns=['seq', 'mutates', 'sample', 'score', 'global_score', 'seq_recovery'], data=rows)\n",
    "df"
   ]
  },
  {
   "cell_type": "code",
   "execution_count": 26,
   "id": "b380fd30-a05f-4d32-aa76-681a329357d1",
   "metadata": {},
   "outputs": [],
   "source": [
    "df.to_csv(\"proteinmpnn_s1m_unique_results.csv\", index=False)"
   ]
  },
  {
   "cell_type": "code",
   "execution_count": null,
   "id": "54c7b0d1-6712-4f0e-9bd0-27718acb3ab0",
   "metadata": {},
   "outputs": [],
   "source": []
  }
 ],
 "metadata": {
  "kernelspec": {
   "display_name": "Python 3 (ipykernel)",
   "language": "python",
   "name": "python3"
  },
  "language_info": {
   "codemirror_mode": {
    "name": "ipython",
    "version": 3
   },
   "file_extension": ".py",
   "mimetype": "text/x-python",
   "name": "python",
   "nbconvert_exporter": "python",
   "pygments_lexer": "ipython3",
   "version": "3.10.14"
  }
 },
 "nbformat": 4,
 "nbformat_minor": 5
}
